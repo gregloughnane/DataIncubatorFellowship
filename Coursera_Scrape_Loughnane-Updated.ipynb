{
 "cells": [
  {
   "cell_type": "markdown",
   "metadata": {},
   "source": [
    "# Coursera Course Scraping Example\n",
    "### Here I've done some VERY preliminary scraping to demonstrate the type of data that I want to look at, and roughly what I'll do to go about getting it.\n",
    "\n",
    "#### Note: There is not much but high-level text data here for now, per the time that I had to invest in this demonstration, but it will add some MB once implemented the way I want :)"
   ]
  },
  {
   "cell_type": "code",
   "execution_count": 8,
   "metadata": {},
   "outputs": [],
   "source": [
    "from selenium.webdriver.common.action_chains import ActionChains\n",
    "from bs4 import BeautifulSoup\n",
    "from selenium import webdriver"
   ]
  },
  {
   "cell_type": "code",
   "execution_count": 9,
   "metadata": {},
   "outputs": [],
   "source": [
    "def find_courses(source):\n",
    "    pgcn = BeautifulSoup(source, 'html.parser')\n",
    "    if pgcn is None:\n",
    "        print(\"Page not found\")\n",
    "    else:\n",
    "        courses = pgcn.find_all(\"li\", {'class': 'ais-InfiniteHits-item'})\n",
    "        for course in courses:\n",
    "            try:\n",
    "                course_title = course.h2.get_text()\n",
    "                course_rating = course.find('span', {'class': 'ratings-text'}). \\\n",
    "                    get_text()\n",
    "                print(f\"Course Title: \\t {course_title}\")\n",
    "                print(f\"Course Rating: \\t {course_rating}\")\n",
    "            except:\n",
    "                print(\"Something went wrong when printing the courses\")"
   ]
  },
  {
   "cell_type": "markdown",
   "metadata": {},
   "source": [
    "### Pull down High-Level Course Data From Coursera\n",
    "#### Note: I'm only going to pull down 3 pages each as a demonstration."
   ]
  },
  {
   "cell_type": "code",
   "execution_count": null,
   "metadata": {},
   "outputs": [],
   "source": [
    "chrome_options = webdriver.ChromeOptions(); \n",
    "chrome_options.add_experimental_option(\"excludeSwitches\", ['enable-automation']);\n",
    "driver = webdriver.Chrome(options=chrome_options);  \n",
    "page_count = 10\n",
    "url = \"hhttps://www.coursera.org/search?query=biotechnology&\"\n",
    "driver.get(url)\n",
    "driver.implicitly_wait(80)\n",
    "\n",
    "for i in range(page_count):\n",
    "    element = driver.find_element_by_id('pagination_right_arrow_button')\n",
    "    ActionChains(driver).move_to_element(element).perform()\n",
    "    find_courses(driver.page_source)\n",
    "    ActionChains(driver).click().perform()\n",
    "    driver.implicitly_wait(80)\n",
    "    \n",
    "    \n",
    "driver.quit()"
   ]
  },
  {
   "cell_type": "markdown",
   "metadata": {},
   "source": [
    "From here I would want to look do lots of things, including as a start (brainstorming here):\n",
    "\n",
    "- Consolidate data and track overlaps in each category\n",
    "\n",
    "- Doing some NLP and sentiment analysis (e.g., Count, TFIDF, GloVe, etc.) on the most popular words, phrases, and the like that appear in each of these courses\n",
    "\n",
    "- Analyze the \"Course ratings\" and see if there are any correlations between the course ratings and the number of students who take the course/finish the course (perhaps I could include some \"degree of difficulty metric\")\n",
    "\n",
    "- Retrieve all sub-course information, including all of the text associated with each week of each course's work, and look to see if I can actually extract job titles or industries from the text available in the course outlines or lectures that might correspond to LinkedIn\n",
    "\n",
    "- Look at other MOOCs for data including Udacity, etc. and also at data science fellowship sides, like the Data Incubator, for example...  perhaps I can meta-abstract the key concepts that one might need for data science and use this as a starting point to prove out the idea behind the algorithm.  I think there is more consensus on what it means to be a data scientist today than, let's say, an \"advanced manufacturing engineer.\"\n",
    "\n",
    "- on and on...I'd love to discuss this with Data Incubator folks as I'm ideating and setting up plubming architecture early in the 8 week program\n",
    "\n",
    "I hope that this gives you guys a good idea of where the scrape might take me!"
   ]
  }
 ],
 "metadata": {
  "kernelspec": {
   "display_name": "Python 3",
   "language": "python",
   "name": "python3"
  },
  "language_info": {
   "codemirror_mode": {
    "name": "ipython",
    "version": 3
   },
   "file_extension": ".py",
   "mimetype": "text/x-python",
   "name": "python",
   "nbconvert_exporter": "python",
   "pygments_lexer": "ipython3",
   "version": "3.7.3"
  }
 },
 "nbformat": 4,
 "nbformat_minor": 2
}
