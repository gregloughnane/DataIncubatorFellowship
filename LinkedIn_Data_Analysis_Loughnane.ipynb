{
 "cells": [
  {
   "cell_type": "markdown",
   "metadata": {},
   "source": [
    "### Exploratory LinkedIn Data Analysis\n",
    "\n",
    "#### 0) Imports\n",
    "\n",
    "#### 1) Explore Data\n",
    "    1.1 Wrangle in the data from labels and predictors, summarize and visualize\n",
    "    1.2 remove missing data & prepare it for ML\n",
    "    \n",
    "#### 2) Preliminary ML Stuff\n",
    "\n",
    "#### 3) Preliminary NLP Stuff"
   ]
  },
  {
   "cell_type": "markdown",
   "metadata": {},
   "source": [
    "### 0) Imports"
   ]
  },
  {
   "cell_type": "code",
   "execution_count": 1,
   "metadata": {},
   "outputs": [],
   "source": [
    "# Data Read/Write/Manipulation\n",
    "import pandas as pd\n",
    "import numpy as np\n",
    "\n",
    "# Visualizations\n",
    "import seaborn as sns\n",
    "import matplotlib.pyplot as plt\n",
    "\n",
    "# NLP\n",
    "from sklearn.feature_extraction.text import CountVectorizer"
   ]
  },
  {
   "cell_type": "markdown",
   "metadata": {},
   "source": [
    "### 1) Explore/Clean Data"
   ]
  },
  {
   "cell_type": "markdown",
   "metadata": {},
   "source": [
    "#### Wrangle in the data from labels and predictors, summarize and visualize"
   ]
  },
  {
   "cell_type": "code",
   "execution_count": 2,
   "metadata": {
    "scrolled": true
   },
   "outputs": [
    {
     "name": "stderr",
     "output_type": "stream",
     "text": [
      "/home/greg/anaconda3/envs/TF2/lib/python3.7/site-packages/IPython/core/interactiveshell.py:3057: DtypeWarning: Columns (9,10) have mixed types. Specify dtype option on import or set low_memory=False.\n",
      "  interactivity=interactivity, compiler=compiler, result=result)\n"
     ]
    },
    {
     "data": {
      "text/html": [
       "<div>\n",
       "<style scoped>\n",
       "    .dataframe tbody tr th:only-of-type {\n",
       "        vertical-align: middle;\n",
       "    }\n",
       "\n",
       "    .dataframe tbody tr th {\n",
       "        vertical-align: top;\n",
       "    }\n",
       "\n",
       "    .dataframe thead th {\n",
       "        text-align: right;\n",
       "    }\n",
       "</style>\n",
       "<table border=\"1\" class=\"dataframe\">\n",
       "  <thead>\n",
       "    <tr style=\"text-align: right;\">\n",
       "      <th></th>\n",
       "      <th>dataset_id</th>\n",
       "      <th>as_of_date</th>\n",
       "      <th>company_name</th>\n",
       "      <th>followers_count</th>\n",
       "      <th>employees_on_platform</th>\n",
       "      <th>link</th>\n",
       "      <th>industry</th>\n",
       "      <th>date_added</th>\n",
       "      <th>date_updated</th>\n",
       "      <th>description</th>\n",
       "      <th>website</th>\n",
       "      <th>entity_id</th>\n",
       "      <th>cusip</th>\n",
       "      <th>isin</th>\n",
       "    </tr>\n",
       "  </thead>\n",
       "  <tbody>\n",
       "    <tr>\n",
       "      <th>0</th>\n",
       "      <td>58329</td>\n",
       "      <td>2015-09-14</td>\n",
       "      <td>Goldman Sachs</td>\n",
       "      <td>552254</td>\n",
       "      <td>38124</td>\n",
       "      <td>https://www.linkedin.com/company/1382</td>\n",
       "      <td>Investment Banking</td>\n",
       "      <td>2015-09-14 00:00:00+00</td>\n",
       "      <td>2015-09-14 00:00:00+00</td>\n",
       "      <td>NaN</td>\n",
       "      <td>NaN</td>\n",
       "      <td>NaN</td>\n",
       "      <td>NaN</td>\n",
       "      <td>NaN</td>\n",
       "    </tr>\n",
       "    <tr>\n",
       "      <th>1</th>\n",
       "      <td>58329</td>\n",
       "      <td>2015-09-15</td>\n",
       "      <td>Goldman Sachs</td>\n",
       "      <td>552862</td>\n",
       "      <td>38141</td>\n",
       "      <td>https://www.linkedin.com/company/1382</td>\n",
       "      <td>Investment Banking</td>\n",
       "      <td>2015-09-15 00:00:00+00</td>\n",
       "      <td>2015-09-15 00:00:00+00</td>\n",
       "      <td>NaN</td>\n",
       "      <td>NaN</td>\n",
       "      <td>NaN</td>\n",
       "      <td>NaN</td>\n",
       "      <td>NaN</td>\n",
       "    </tr>\n",
       "    <tr>\n",
       "      <th>2</th>\n",
       "      <td>58363</td>\n",
       "      <td>2015-09-16</td>\n",
       "      <td>United Technologies</td>\n",
       "      <td>59157</td>\n",
       "      <td>14982</td>\n",
       "      <td>https://www.linkedin.com/company/2426</td>\n",
       "      <td>Aviation &amp; Aerospace</td>\n",
       "      <td>2015-09-16 00:00:00+00</td>\n",
       "      <td>2015-09-16 00:00:00+00</td>\n",
       "      <td>NaN</td>\n",
       "      <td>NaN</td>\n",
       "      <td>NaN</td>\n",
       "      <td>NaN</td>\n",
       "      <td>NaN</td>\n",
       "    </tr>\n",
       "    <tr>\n",
       "      <th>3</th>\n",
       "      <td>58366</td>\n",
       "      <td>2015-09-16</td>\n",
       "      <td>Novo Nordisk</td>\n",
       "      <td>336175</td>\n",
       "      <td>26448</td>\n",
       "      <td>https://www.linkedin.com/company/2227</td>\n",
       "      <td>Pharmaceuticals</td>\n",
       "      <td>2015-09-16 00:00:00+00</td>\n",
       "      <td>2015-09-16 00:00:00+00</td>\n",
       "      <td>NaN</td>\n",
       "      <td>NaN</td>\n",
       "      <td>NaN</td>\n",
       "      <td>NaN</td>\n",
       "      <td>NaN</td>\n",
       "    </tr>\n",
       "    <tr>\n",
       "      <th>4</th>\n",
       "      <td>58371</td>\n",
       "      <td>2015-09-16</td>\n",
       "      <td>Lowe's Companies, Inc.</td>\n",
       "      <td>134255</td>\n",
       "      <td>62574</td>\n",
       "      <td>https://www.linkedin.com/company/4128</td>\n",
       "      <td>Retail</td>\n",
       "      <td>2015-09-16 00:00:00+00</td>\n",
       "      <td>2015-09-16 00:00:00+00</td>\n",
       "      <td>NaN</td>\n",
       "      <td>NaN</td>\n",
       "      <td>NaN</td>\n",
       "      <td>NaN</td>\n",
       "      <td>NaN</td>\n",
       "    </tr>\n",
       "  </tbody>\n",
       "</table>\n",
       "</div>"
      ],
      "text/plain": [
       "   dataset_id  as_of_date            company_name  followers_count  \\\n",
       "0       58329  2015-09-14           Goldman Sachs           552254   \n",
       "1       58329  2015-09-15           Goldman Sachs           552862   \n",
       "2       58363  2015-09-16     United Technologies            59157   \n",
       "3       58366  2015-09-16            Novo Nordisk           336175   \n",
       "4       58371  2015-09-16  Lowe's Companies, Inc.           134255   \n",
       "\n",
       "   employees_on_platform                                   link  \\\n",
       "0                  38124  https://www.linkedin.com/company/1382   \n",
       "1                  38141  https://www.linkedin.com/company/1382   \n",
       "2                  14982  https://www.linkedin.com/company/2426   \n",
       "3                  26448  https://www.linkedin.com/company/2227   \n",
       "4                  62574  https://www.linkedin.com/company/4128   \n",
       "\n",
       "               industry              date_added            date_updated  \\\n",
       "0    Investment Banking  2015-09-14 00:00:00+00  2015-09-14 00:00:00+00   \n",
       "1    Investment Banking  2015-09-15 00:00:00+00  2015-09-15 00:00:00+00   \n",
       "2  Aviation & Aerospace  2015-09-16 00:00:00+00  2015-09-16 00:00:00+00   \n",
       "3       Pharmaceuticals  2015-09-16 00:00:00+00  2015-09-16 00:00:00+00   \n",
       "4                Retail  2015-09-16 00:00:00+00  2015-09-16 00:00:00+00   \n",
       "\n",
       "  description website  entity_id  cusip  isin  \n",
       "0         NaN     NaN        NaN    NaN   NaN  \n",
       "1         NaN     NaN        NaN    NaN   NaN  \n",
       "2         NaN     NaN        NaN    NaN   NaN  \n",
       "3         NaN     NaN        NaN    NaN   NaN  \n",
       "4         NaN     NaN        NaN    NaN   NaN  "
      ]
     },
     "execution_count": 2,
     "metadata": {},
     "output_type": "execute_result"
    }
   ],
   "source": [
    "df = pd.read_csv('temp_datalab_records_linkedin_company.csv')\n",
    "df.head()"
   ]
  },
  {
   "cell_type": "code",
   "execution_count": 3,
   "metadata": {},
   "outputs": [
    {
     "data": {
      "text/plain": [
       "(2426196, 14)"
      ]
     },
     "execution_count": 3,
     "metadata": {},
     "output_type": "execute_result"
    }
   ],
   "source": [
    "# Check how much data we have, exactly\n",
    "df.shape"
   ]
  },
  {
   "cell_type": "markdown",
   "metadata": {},
   "source": [
    "Right away, it's clear that we should modify the data set so that there is only one entry per company name, if I was going to actually use this particular set.  The easiest way to do this would be to take only the most recent \"as_of_date\" for a given \"company_name.\" ... something like ..."
   ]
  },
  {
   "cell_type": "code",
   "execution_count": 4,
   "metadata": {},
   "outputs": [
    {
     "data": {
      "text/html": [
       "<div>\n",
       "<style scoped>\n",
       "    .dataframe tbody tr th:only-of-type {\n",
       "        vertical-align: middle;\n",
       "    }\n",
       "\n",
       "    .dataframe tbody tr th {\n",
       "        vertical-align: top;\n",
       "    }\n",
       "\n",
       "    .dataframe thead th {\n",
       "        text-align: right;\n",
       "    }\n",
       "</style>\n",
       "<table border=\"1\" class=\"dataframe\">\n",
       "  <thead>\n",
       "    <tr style=\"text-align: right;\">\n",
       "      <th></th>\n",
       "      <th>dataset_id</th>\n",
       "      <th>as_of_date</th>\n",
       "      <th>company_name</th>\n",
       "      <th>followers_count</th>\n",
       "      <th>employees_on_platform</th>\n",
       "      <th>link</th>\n",
       "      <th>industry</th>\n",
       "      <th>date_added</th>\n",
       "      <th>date_updated</th>\n",
       "      <th>description</th>\n",
       "      <th>website</th>\n",
       "      <th>entity_id</th>\n",
       "      <th>cusip</th>\n",
       "      <th>isin</th>\n",
       "    </tr>\n",
       "  </thead>\n",
       "  <tbody>\n",
       "    <tr>\n",
       "      <th>0</th>\n",
       "      <td>58329</td>\n",
       "      <td>2015-09-14</td>\n",
       "      <td>Goldman Sachs</td>\n",
       "      <td>552254</td>\n",
       "      <td>38124</td>\n",
       "      <td>https://www.linkedin.com/company/1382</td>\n",
       "      <td>Investment Banking</td>\n",
       "      <td>2015-09-14 00:00:00+00</td>\n",
       "      <td>2015-09-14 00:00:00+00</td>\n",
       "      <td>NaN</td>\n",
       "      <td>NaN</td>\n",
       "      <td>NaN</td>\n",
       "      <td>NaN</td>\n",
       "      <td>NaN</td>\n",
       "    </tr>\n",
       "    <tr>\n",
       "      <th>2</th>\n",
       "      <td>58363</td>\n",
       "      <td>2015-09-16</td>\n",
       "      <td>United Technologies</td>\n",
       "      <td>59157</td>\n",
       "      <td>14982</td>\n",
       "      <td>https://www.linkedin.com/company/2426</td>\n",
       "      <td>Aviation &amp; Aerospace</td>\n",
       "      <td>2015-09-16 00:00:00+00</td>\n",
       "      <td>2015-09-16 00:00:00+00</td>\n",
       "      <td>NaN</td>\n",
       "      <td>NaN</td>\n",
       "      <td>NaN</td>\n",
       "      <td>NaN</td>\n",
       "      <td>NaN</td>\n",
       "    </tr>\n",
       "    <tr>\n",
       "      <th>3</th>\n",
       "      <td>58366</td>\n",
       "      <td>2015-09-16</td>\n",
       "      <td>Novo Nordisk</td>\n",
       "      <td>336175</td>\n",
       "      <td>26448</td>\n",
       "      <td>https://www.linkedin.com/company/2227</td>\n",
       "      <td>Pharmaceuticals</td>\n",
       "      <td>2015-09-16 00:00:00+00</td>\n",
       "      <td>2015-09-16 00:00:00+00</td>\n",
       "      <td>NaN</td>\n",
       "      <td>NaN</td>\n",
       "      <td>NaN</td>\n",
       "      <td>NaN</td>\n",
       "      <td>NaN</td>\n",
       "    </tr>\n",
       "    <tr>\n",
       "      <th>4</th>\n",
       "      <td>58371</td>\n",
       "      <td>2015-09-16</td>\n",
       "      <td>Lowe's Companies, Inc.</td>\n",
       "      <td>134255</td>\n",
       "      <td>62574</td>\n",
       "      <td>https://www.linkedin.com/company/4128</td>\n",
       "      <td>Retail</td>\n",
       "      <td>2015-09-16 00:00:00+00</td>\n",
       "      <td>2015-09-16 00:00:00+00</td>\n",
       "      <td>NaN</td>\n",
       "      <td>NaN</td>\n",
       "      <td>NaN</td>\n",
       "      <td>NaN</td>\n",
       "      <td>NaN</td>\n",
       "    </tr>\n",
       "    <tr>\n",
       "      <th>5</th>\n",
       "      <td>58382</td>\n",
       "      <td>2015-09-16</td>\n",
       "      <td>UnitedHealth Group</td>\n",
       "      <td>221288</td>\n",
       "      <td>77108</td>\n",
       "      <td>https://www.linkedin.com/company/1720</td>\n",
       "      <td>Hospital &amp; Health Care</td>\n",
       "      <td>2015-09-16 00:00:00+00</td>\n",
       "      <td>2015-09-16 00:00:00+00</td>\n",
       "      <td>NaN</td>\n",
       "      <td>NaN</td>\n",
       "      <td>NaN</td>\n",
       "      <td>NaN</td>\n",
       "      <td>NaN</td>\n",
       "    </tr>\n",
       "  </tbody>\n",
       "</table>\n",
       "</div>"
      ],
      "text/plain": [
       "   dataset_id  as_of_date            company_name  followers_count  \\\n",
       "0       58329  2015-09-14           Goldman Sachs           552254   \n",
       "2       58363  2015-09-16     United Technologies            59157   \n",
       "3       58366  2015-09-16            Novo Nordisk           336175   \n",
       "4       58371  2015-09-16  Lowe's Companies, Inc.           134255   \n",
       "5       58382  2015-09-16      UnitedHealth Group           221288   \n",
       "\n",
       "   employees_on_platform                                   link  \\\n",
       "0                  38124  https://www.linkedin.com/company/1382   \n",
       "2                  14982  https://www.linkedin.com/company/2426   \n",
       "3                  26448  https://www.linkedin.com/company/2227   \n",
       "4                  62574  https://www.linkedin.com/company/4128   \n",
       "5                  77108  https://www.linkedin.com/company/1720   \n",
       "\n",
       "                 industry              date_added            date_updated  \\\n",
       "0      Investment Banking  2015-09-14 00:00:00+00  2015-09-14 00:00:00+00   \n",
       "2    Aviation & Aerospace  2015-09-16 00:00:00+00  2015-09-16 00:00:00+00   \n",
       "3         Pharmaceuticals  2015-09-16 00:00:00+00  2015-09-16 00:00:00+00   \n",
       "4                  Retail  2015-09-16 00:00:00+00  2015-09-16 00:00:00+00   \n",
       "5  Hospital & Health Care  2015-09-16 00:00:00+00  2015-09-16 00:00:00+00   \n",
       "\n",
       "  description website  entity_id  cusip  isin  \n",
       "0         NaN     NaN        NaN    NaN   NaN  \n",
       "2         NaN     NaN        NaN    NaN   NaN  \n",
       "3         NaN     NaN        NaN    NaN   NaN  \n",
       "4         NaN     NaN        NaN    NaN   NaN  \n",
       "5         NaN     NaN        NaN    NaN   NaN  "
      ]
     },
     "execution_count": 4,
     "metadata": {},
     "output_type": "execute_result"
    }
   ],
   "source": [
    "df1 = df.drop_duplicates('company_name')\n",
    "df1.head()"
   ]
  },
  {
   "cell_type": "code",
   "execution_count": 5,
   "metadata": {},
   "outputs": [
    {
     "data": {
      "text/plain": [
       "(5028, 14)"
      ]
     },
     "execution_count": 5,
     "metadata": {},
     "output_type": "execute_result"
    }
   ],
   "source": [
    "# Check how much data we have now, exactly\n",
    "df1.shape"
   ]
  },
  {
   "cell_type": "raw",
   "metadata": {},
   "source": [
    "It might be interesting to look and see if any of the (as_of_date, company_name) pairs had different industries.  This might be relevant to the project that I'm pitching.\n",
    "\n",
    "Anyways, on with some standard analysis stuff that I might do on any given challenge data set while exploring it"
   ]
  },
  {
   "cell_type": "code",
   "execution_count": 6,
   "metadata": {},
   "outputs": [
    {
     "data": {
      "text/plain": [
       "dataset_id                 int64\n",
       "as_of_date                object\n",
       "company_name              object\n",
       "followers_count            int64\n",
       "employees_on_platform      int64\n",
       "link                      object\n",
       "industry                  object\n",
       "date_added                object\n",
       "date_updated              object\n",
       "description               object\n",
       "website                   object\n",
       "entity_id                float64\n",
       "cusip                    float64\n",
       "isin                     float64\n",
       "dtype: object"
      ]
     },
     "execution_count": 6,
     "metadata": {},
     "output_type": "execute_result"
    }
   ],
   "source": [
    "# What are the date types in each column?\n",
    "df1.dtypes"
   ]
  },
  {
   "cell_type": "code",
   "execution_count": 7,
   "metadata": {},
   "outputs": [
    {
     "data": {
      "text/plain": [
       "Text(141.0, 0.5, 'Total # Transactions')"
      ]
     },
     "execution_count": 7,
     "metadata": {},
     "output_type": "execute_result"
    },
    {
     "data": {
      "image/png": "[encoded data removed]",
      "text/plain": [
       "<Figure size 1296x864 with 1 Axes>"
      ]
     },
     "metadata": {
      "needs_background": "light"
     },
     "output_type": "display_data"
    }
   ],
   "source": [
    "# look for missing data, visually\n",
    "plt.figure(figsize = (18,12))\n",
    "sns.heatmap(df1.isnull(), cbar=False)\n",
    "plt.title('Checking which features have NULL values (in other words, missing data)')\n",
    "plt.ylabel('Total # Transactions')"
   ]
  },
  {
   "cell_type": "markdown",
   "metadata": {},
   "source": [
    "Some notes here:\n",
    "\n",
    "- probably should drop columns from description to the end of the data set\n",
    "- can consider filling in the \"industry\" columns with the resulting data set that's nearly full, or filling in missing values some other way; else we can just drop those\n",
    "- it's nice to see that all LinkedIn companies have links...but writing that makes me realize how stupid it is haha (Linked...link...is that...linked?)\n",
    "\n",
    "Intuitively, we could probably make some cool machine learning models after filtering this data to predict, I don't know, a metric like ration of employees_on_platform to followers_count.  This might be relevant.\n",
    "\n",
    "We might first want to check if we're dealing with a variable with some weird distribution"
   ]
  },
  {
   "cell_type": "code",
   "execution_count": 8,
   "metadata": {},
   "outputs": [
    {
     "data": {
      "text/html": [
       "<div>\n",
       "<style scoped>\n",
       "    .dataframe tbody tr th:only-of-type {\n",
       "        vertical-align: middle;\n",
       "    }\n",
       "\n",
       "    .dataframe tbody tr th {\n",
       "        vertical-align: top;\n",
       "    }\n",
       "\n",
       "    .dataframe thead th {\n",
       "        text-align: right;\n",
       "    }\n",
       "</style>\n",
       "<table border=\"1\" class=\"dataframe\">\n",
       "  <thead>\n",
       "    <tr style=\"text-align: right;\">\n",
       "      <th></th>\n",
       "      <th>dataset_id</th>\n",
       "      <th>as_of_date</th>\n",
       "      <th>company_name</th>\n",
       "      <th>followers_count</th>\n",
       "      <th>employees_on_platform</th>\n",
       "      <th>link</th>\n",
       "      <th>industry</th>\n",
       "      <th>date_added</th>\n",
       "      <th>date_updated</th>\n",
       "      <th>description</th>\n",
       "      <th>website</th>\n",
       "      <th>entity_id</th>\n",
       "      <th>cusip</th>\n",
       "      <th>isin</th>\n",
       "    </tr>\n",
       "  </thead>\n",
       "  <tbody>\n",
       "    <tr>\n",
       "      <th>0</th>\n",
       "      <td>58329</td>\n",
       "      <td>2015-09-14</td>\n",
       "      <td>Goldman Sachs</td>\n",
       "      <td>552254</td>\n",
       "      <td>38124</td>\n",
       "      <td>https://www.linkedin.com/company/1382</td>\n",
       "      <td>Investment Banking</td>\n",
       "      <td>2015-09-14 00:00:00+00</td>\n",
       "      <td>2015-09-14 00:00:00+00</td>\n",
       "      <td>NaN</td>\n",
       "      <td>NaN</td>\n",
       "      <td>NaN</td>\n",
       "      <td>NaN</td>\n",
       "      <td>NaN</td>\n",
       "    </tr>\n",
       "    <tr>\n",
       "      <th>1</th>\n",
       "      <td>58363</td>\n",
       "      <td>2015-09-16</td>\n",
       "      <td>United Technologies</td>\n",
       "      <td>59157</td>\n",
       "      <td>14982</td>\n",
       "      <td>https://www.linkedin.com/company/2426</td>\n",
       "      <td>Aviation &amp; Aerospace</td>\n",
       "      <td>2015-09-16 00:00:00+00</td>\n",
       "      <td>2015-09-16 00:00:00+00</td>\n",
       "      <td>NaN</td>\n",
       "      <td>NaN</td>\n",
       "      <td>NaN</td>\n",
       "      <td>NaN</td>\n",
       "      <td>NaN</td>\n",
       "    </tr>\n",
       "    <tr>\n",
       "      <th>2</th>\n",
       "      <td>58366</td>\n",
       "      <td>2015-09-16</td>\n",
       "      <td>Novo Nordisk</td>\n",
       "      <td>336175</td>\n",
       "      <td>26448</td>\n",
       "      <td>https://www.linkedin.com/company/2227</td>\n",
       "      <td>Pharmaceuticals</td>\n",
       "      <td>2015-09-16 00:00:00+00</td>\n",
       "      <td>2015-09-16 00:00:00+00</td>\n",
       "      <td>NaN</td>\n",
       "      <td>NaN</td>\n",
       "      <td>NaN</td>\n",
       "      <td>NaN</td>\n",
       "      <td>NaN</td>\n",
       "    </tr>\n",
       "    <tr>\n",
       "      <th>3</th>\n",
       "      <td>58371</td>\n",
       "      <td>2015-09-16</td>\n",
       "      <td>Lowe's Companies, Inc.</td>\n",
       "      <td>134255</td>\n",
       "      <td>62574</td>\n",
       "      <td>https://www.linkedin.com/company/4128</td>\n",
       "      <td>Retail</td>\n",
       "      <td>2015-09-16 00:00:00+00</td>\n",
       "      <td>2015-09-16 00:00:00+00</td>\n",
       "      <td>NaN</td>\n",
       "      <td>NaN</td>\n",
       "      <td>NaN</td>\n",
       "      <td>NaN</td>\n",
       "      <td>NaN</td>\n",
       "    </tr>\n",
       "    <tr>\n",
       "      <th>4</th>\n",
       "      <td>58382</td>\n",
       "      <td>2015-09-16</td>\n",
       "      <td>UnitedHealth Group</td>\n",
       "      <td>221288</td>\n",
       "      <td>77108</td>\n",
       "      <td>https://www.linkedin.com/company/1720</td>\n",
       "      <td>Hospital &amp; Health Care</td>\n",
       "      <td>2015-09-16 00:00:00+00</td>\n",
       "      <td>2015-09-16 00:00:00+00</td>\n",
       "      <td>NaN</td>\n",
       "      <td>NaN</td>\n",
       "      <td>NaN</td>\n",
       "      <td>NaN</td>\n",
       "      <td>NaN</td>\n",
       "    </tr>\n",
       "  </tbody>\n",
       "</table>\n",
       "</div>"
      ],
      "text/plain": [
       "   dataset_id  as_of_date            company_name  followers_count  \\\n",
       "0       58329  2015-09-14           Goldman Sachs           552254   \n",
       "1       58363  2015-09-16     United Technologies            59157   \n",
       "2       58366  2015-09-16            Novo Nordisk           336175   \n",
       "3       58371  2015-09-16  Lowe's Companies, Inc.           134255   \n",
       "4       58382  2015-09-16      UnitedHealth Group           221288   \n",
       "\n",
       "   employees_on_platform                                   link  \\\n",
       "0                  38124  https://www.linkedin.com/company/1382   \n",
       "1                  14982  https://www.linkedin.com/company/2426   \n",
       "2                  26448  https://www.linkedin.com/company/2227   \n",
       "3                  62574  https://www.linkedin.com/company/4128   \n",
       "4                  77108  https://www.linkedin.com/company/1720   \n",
       "\n",
       "                 industry              date_added            date_updated  \\\n",
       "0      Investment Banking  2015-09-14 00:00:00+00  2015-09-14 00:00:00+00   \n",
       "1    Aviation & Aerospace  2015-09-16 00:00:00+00  2015-09-16 00:00:00+00   \n",
       "2         Pharmaceuticals  2015-09-16 00:00:00+00  2015-09-16 00:00:00+00   \n",
       "3                  Retail  2015-09-16 00:00:00+00  2015-09-16 00:00:00+00   \n",
       "4  Hospital & Health Care  2015-09-16 00:00:00+00  2015-09-16 00:00:00+00   \n",
       "\n",
       "  description website  entity_id  cusip  isin  \n",
       "0         NaN     NaN        NaN    NaN   NaN  \n",
       "1         NaN     NaN        NaN    NaN   NaN  \n",
       "2         NaN     NaN        NaN    NaN   NaN  \n",
       "3         NaN     NaN        NaN    NaN   NaN  \n",
       "4         NaN     NaN        NaN    NaN   NaN  "
      ]
     },
     "execution_count": 8,
     "metadata": {},
     "output_type": "execute_result"
    }
   ],
   "source": [
    "df1 = df1.reset_index(drop=True)\n",
    "df1.head()"
   ]
  },
  {
   "cell_type": "code",
   "execution_count": 9,
   "metadata": {},
   "outputs": [
    {
     "name": "stdout",
     "output_type": "stream",
     "text": [
      "The Average is:  0.17\n",
      "The standard Deviation is:  0.27\n"
     ]
    },
    {
     "data": {
      "text/plain": [
       "<matplotlib.axes._subplots.AxesSubplot at 0x7fe2793324a8>"
      ]
     },
     "execution_count": 9,
     "metadata": {},
     "output_type": "execute_result"
    },
    {
     "data": {
      "image/png": "[encoded data removed]",
      "text/plain": [
       "<Figure size 864x432 with 2 Axes>"
      ]
     },
     "metadata": {
      "needs_background": "light"
     },
     "output_type": "display_data"
    }
   ],
   "source": [
    "# Look at distribution of employees_on_platform/followers_count - is it normally distributed?\n",
    "metric_for_ml = df1.employees_on_platform.div(df1.followers_count)\n",
    "\n",
    "# Drop NaNs and any companies that have zero followers\n",
    "metric_for_ml = metric_for_ml.replace([np.inf, -np.inf], np.nan)\n",
    "metric_for_ml = metric_for_ml.dropna()\n",
    "\n",
    "print('The Average is: ', np.round(np.mean(metric_for_ml), 2) ) \n",
    "print('The standard Deviation is: ', np.round(np.std(metric_for_ml), 2) )\n",
    "\n",
    "plt.figure(figsize=(12, 6))\n",
    "\n",
    "plt.subplot(1, 2, 1)\n",
    "plt.title('Histogram of Training Data')\n",
    "plt.xlabel('Label Value')\n",
    "sns.distplot(metric_for_ml)\n",
    "\n",
    "plt.subplot(1, 2, 2)\n",
    "plt.title('CDF of Training Data')\n",
    "plt.xlabel('Label Value')\n",
    "sns.distplot(metric_for_ml, hist_kws={'cumulative': True, 'edgecolor': 'k'}, kde_kws={'cumulative': True})"
   ]
  },
  {
   "cell_type": "markdown",
   "metadata": {},
   "source": [
    "Looks like we have outputs that are totally not normally distributed.  Very interesting to see the Pareto principle at work here."
   ]
  },
  {
   "cell_type": "code",
   "execution_count": 10,
   "metadata": {},
   "outputs": [
    {
     "data": {
      "text/plain": [
       "Text(33.0, 0.5, 'Total # Transactions')"
      ]
     },
     "execution_count": 10,
     "metadata": {},
     "output_type": "execute_result"
    },
    {
     "data": {
      "image/png": "[encoded data removed]",
      "text/plain": [
       "<Figure size 432x288 with 1 Axes>"
      ]
     },
     "metadata": {
      "needs_background": "light"
     },
     "output_type": "display_data"
    }
   ],
   "source": [
    "# If we wanted to keep going with ML stuff we might drop columns that we will not be using for ML\n",
    "df1 = df1.drop(columns=['description', 'website', 'entity_id', 'cusip', 'isin'])\n",
    "\n",
    "# Remove the data points that we have only outputs and no associated inputs\n",
    "df1 = df1.dropna(axis=0)\n",
    "\n",
    "# Did we get it all?\n",
    "sns.heatmap(df1.isnull(), cbar=False)\n",
    "plt.title('Checking which features have NULL values (in other words, missing data)')\n",
    "plt.ylabel('Total # Transactions')"
   ]
  },
  {
   "cell_type": "markdown",
   "metadata": {},
   "source": [
    "The data is officially cleansed and ready to roll into a supervised learning problem (assuming that would even be of interest)."
   ]
  },
  {
   "cell_type": "markdown",
   "metadata": {},
   "source": [
    "### 2) Preliminary ML Stuff\n",
    "What if I wanted to build a predictive (supervised) model?"
   ]
  },
  {
   "cell_type": "code",
   "execution_count": 11,
   "metadata": {},
   "outputs": [
    {
     "data": {
      "text/plain": [
       "<matplotlib.axes._subplots.AxesSubplot at 0x7fe2778e4588>"
      ]
     },
     "execution_count": 11,
     "metadata": {},
     "output_type": "execute_result"
    },
    {
     "data": {
      "image/png": "[encoded data removed]",
      "text/plain": [
       "<Figure size 432x288 with 2 Axes>"
      ]
     },
     "metadata": {
      "needs_background": "light"
     },
     "output_type": "display_data"
    }
   ],
   "source": [
    "# Now we can look at our correlation data now to see which inputs are likely to affect our output\n",
    "sns.heatmap(df1.corr(), cmap=\"PiYG\", center=0)"
   ]
  },
  {
   "cell_type": "markdown",
   "metadata": {},
   "source": [
    "Note that the object data types are not shown because we have not transformed them from categorical data.  I will leave this for future work.  From here you might decide which data you want to predict, split into X and Y, standardize your inputs and outputs, and roll on withe some ML!\n",
    "\n",
    "\n",
    "For a regression problem, I'll generally start by looking at linear regression (if the problem warrants it), then I'll see how XGBoost and Random Forest approaches do.  Each time I'll plot the actual versus predicted, and it's nice when you have access to feature importances too.  I've also got some standard that I've used for grid/random searching and cross-validating the design space represented by the data and the model hyperparameters. "
   ]
  },
  {
   "cell_type": "markdown",
   "metadata": {},
   "source": [
    "### 3) Preliminary NLP Stuff\n",
    "What if I wanted to build a natural language model?"
   ]
  },
  {
   "cell_type": "markdown",
   "metadata": {},
   "source": [
    "For now, maybe I'll just show how I'd like to get started with some natural language analysis.  \n",
    "\n",
    "Generally speaking, the simplest solution is the best in my experience when it comes to NLP. \n",
    "\n",
    "First, in my project I'm going to create some word embeddings (not from this data, but let's say from the Coursera stuff)\n",
    "\n",
    "Generally, embeddings can be created in ways that either leverage context (i.e., the position of words in a sentence), or in ways that do not.  Autoencoders, such as those built into tools like TensorFlow, leverage context implicitly, and simpler Bag-Of-Words (BOW) approaches use a more direct word-counting approach.\n",
    "\n",
    "No context (i.e., no relationship between words)\n",
    "    • CountVectorizer\n",
    "        ◦ BOW\n",
    "    • Term Frequency (TF) Vectorizer\n",
    "        ◦ Normalized BOW\n",
    "    • Term Frequency Inverse Document Frequency (TF-IDF) Vectorizer\n",
    "        ◦ Normalized BOW where rare words contribute more weight\n",
    "        \n",
    "To Leverage Context\n",
    "    • Word2Vec\n",
    "        ◦ Skip-gram\n",
    "        ◦ Continuous BOW\n",
    "    • FastText\n",
    "    • Latent Semantic Analysis/Latent Semantic Indexing\n",
    "        ◦ This is basically TF-IDF + Singular Value Decomposition\n",
    "    • Neural Network (at least 2 layers)\n",
    " \n",
    "I'd love to talk to instructors and cohort members about which of these to leverage for what I want to do.\n",
    "\n",
    "For this data, let's say that I'm interested in determining what the most popular industries are...how might I go about this?"
   ]
  },
  {
   "cell_type": "code",
   "execution_count": 12,
   "metadata": {},
   "outputs": [
    {
     "data": {
      "text/plain": [
       "0                        Investment Banking\n",
       "1                      Aviation & Aerospace\n",
       "2                           Pharmaceuticals\n",
       "3                                    Retail\n",
       "4                    Hospital & Health Care\n",
       "5                    Hospital & Health Care\n",
       "6                                   Banking\n",
       "7       Information Technology and Services\n",
       "8       Information Technology and Services\n",
       "9                           Pharmaceuticals\n",
       "10                          Pharmaceuticals\n",
       "11                      Computer Networking\n",
       "12      Electrical/Electronic Manufacturing\n",
       "13                                  Banking\n",
       "14                                 Internet\n",
       "15                                  Tobacco\n",
       "16                           Semiconductors\n",
       "17                             Oil & Energy\n",
       "18                                   Retail\n",
       "19                               Automotive\n",
       "20                            Entertainment\n",
       "21                           Consumer Goods\n",
       "22                          Mining & Metals\n",
       "23                              Restaurants\n",
       "24                                 Internet\n",
       "25                                  Banking\n",
       "26                                Chemicals\n",
       "27                     Consumer Electronics\n",
       "28                             Oil & Energy\n",
       "29                       Financial Services\n",
       "                       ...                 \n",
       "4998                        Food Production\n",
       "4999                             Automotive\n",
       "5000                 Commercial Real Estate\n",
       "5001                           Oil & Energy\n",
       "5002       Transportation/Trucking/Railroad\n",
       "5003                 Hospital & Health Care\n",
       "5004                        Pharmaceuticals\n",
       "5005                             Automotive\n",
       "5006                                 Retail\n",
       "5007                            Real Estate\n",
       "5008    Electrical/Electronic Manufacturing\n",
       "5009    Information Technology and Services\n",
       "5010                 Environmental Services\n",
       "5011                      Computer Hardware\n",
       "5012                                Banking\n",
       "5013                                Banking\n",
       "5014                                Banking\n",
       "5015                            Hospitality\n",
       "5016                     Building Materials\n",
       "5017                                Banking\n",
       "5018                           Oil & Energy\n",
       "5019                          Biotechnology\n",
       "5020                                Banking\n",
       "5021                                Banking\n",
       "5022                     Financial Services\n",
       "5023                       Food & Beverages\n",
       "5024                       Food & Beverages\n",
       "5025                            Hospitality\n",
       "5026                        Mining & Metals\n",
       "5027                     Financial Services\n",
       "Name: industry, Length: 4960, dtype: object"
      ]
     },
     "execution_count": 12,
     "metadata": {},
     "output_type": "execute_result"
    }
   ],
   "source": [
    "all_entries = df1.iloc[:,6]\n",
    "all_entries"
   ]
  },
  {
   "cell_type": "code",
   "execution_count": 13,
   "metadata": {},
   "outputs": [
    {
     "name": "stdout",
     "output_type": "stream",
     "text": [
      "\n",
      "[0 0 0 0 0 0 0 0 0 0 0 0 0 0 0 0 0 0 0 0 0 0 0 0 0 0 0 0 0 0 0 0 0 0 0 0 0\n",
      " 0 0 0 0 0 0 0 0 0 0 0 0 0 0 0 0 0 0 0 0 0 0 0 0 0 0 0 0 0 0 0 0 0 0 0 0 0\n",
      " 0 0 0 0 0 0 0 0 0 0 0 0 0 0 0 0 0 0 0 0 0 0 0 0 0 0 0 0 0 0 0 0 0 0 0 0 0\n",
      " 0 0 0 0 0 0 0 0 0 0 0 0 0 0 0 0 0 0 0 0 0 0 0 0 0]\n"
     ]
    },
    {
     "data": {
      "text/html": [
       "<div>\n",
       "<style scoped>\n",
       "    .dataframe tbody tr th:only-of-type {\n",
       "        vertical-align: middle;\n",
       "    }\n",
       "\n",
       "    .dataframe tbody tr th {\n",
       "        vertical-align: top;\n",
       "    }\n",
       "\n",
       "    .dataframe thead th {\n",
       "        text-align: right;\n",
       "    }\n",
       "</style>\n",
       "<table border=\"1\" class=\"dataframe\">\n",
       "  <thead>\n",
       "    <tr style=\"text-align: right;\">\n",
       "      <th></th>\n",
       "      <th>word</th>\n",
       "      <th>count</th>\n",
       "    </tr>\n",
       "  </thead>\n",
       "  <tbody>\n",
       "    <tr>\n",
       "      <th>0</th>\n",
       "      <td>Investment Banking</td>\n",
       "      <td>0</td>\n",
       "    </tr>\n",
       "    <tr>\n",
       "      <th>93</th>\n",
       "      <td>Broadcast Media</td>\n",
       "      <td>0</td>\n",
       "    </tr>\n",
       "    <tr>\n",
       "      <th>87</th>\n",
       "      <td>Civil Engineering</td>\n",
       "      <td>0</td>\n",
       "    </tr>\n",
       "    <tr>\n",
       "      <th>88</th>\n",
       "      <td>Plastics</td>\n",
       "      <td>0</td>\n",
       "    </tr>\n",
       "    <tr>\n",
       "      <th>89</th>\n",
       "      <td>Individual &amp; Family Services</td>\n",
       "      <td>0</td>\n",
       "    </tr>\n",
       "  </tbody>\n",
       "</table>\n",
       "</div>"
      ],
      "text/plain": [
       "                            word  count\n",
       "0             Investment Banking      0\n",
       "93               Broadcast Media      0\n",
       "87             Civil Engineering      0\n",
       "88                      Plastics      0\n",
       "89  Individual & Family Services      0"
      ]
     },
     "execution_count": 13,
     "metadata": {},
     "output_type": "execute_result"
    }
   ],
   "source": [
    "vocab_list_entries = all_entries.drop_duplicates()\n",
    "\n",
    "# Look at list of tags\n",
    "vocab = list(vocab_list_entries)\n",
    "\n",
    "# Initialize Vectorizer - note the custom vocabulary above\n",
    "vectorizer = CountVectorizer(min_df=0, vocabulary=vocab, token_pattern=r\"(?u)\\b\\w[\\w-]*\\w\\b\") \n",
    "\n",
    "# Fit Vectorizer to TRAINING corpus\n",
    "all_entries2 = [str(item) for item in all_entries]\n",
    "model = vectorizer.fit(all_entries2)\n",
    "\n",
    "# Transform corpus to bags of words (tuple structure)\n",
    "bag_of_words = vectorizer.transform(all_entries2)\n",
    "print(bag_of_words)\n",
    "\n",
    "# Convert tuples to vectors\n",
    "X = bag_of_words.toarray()\n",
    "\n",
    "# Visualize Training Data\n",
    "sum_words = X.sum(axis=0)\n",
    "print(sum_words)\n",
    "\n",
    "#freq_words = pd.DataFrame(sum_words, index=vocab)\n",
    "#freq_words.plot(kind='bar', figsize=(16, 3), fontsize=10, legend=None)\n",
    "\n",
    "meta_data = pd.concat([pd.DataFrame(list(vocab)), pd.DataFrame(sum_words)], axis=1)\n",
    "meta_data.columns = ['word', 'count']\n",
    "meta_data.sort_values(by='count', ascending=False).head()"
   ]
  },
  {
   "cell_type": "markdown",
   "metadata": {},
   "source": [
    "This isn't quite working right now, but I think that you get the idea and I'm out of time for this Challenge 1 for now.  \n",
    "\n",
    "Of course, I could've done the previous analysis with pandas and multi-level indexing directly, as in Challenge 2, but this is just for demonstration purposes.  You know...like this."
   ]
  },
  {
   "cell_type": "code",
   "execution_count": 14,
   "metadata": {},
   "outputs": [
    {
     "data": {
      "text/plain": [
       "Biotechnology                           332\n",
       "Banking                                 332\n",
       "Financial Services                      290\n",
       "Oil & Energy                            204\n",
       "Information Technology and Services     196\n",
       "Computer Software                       186\n",
       "Pharmaceuticals                         186\n",
       "Retail                                  170\n",
       "Real Estate                             166\n",
       "Internet                                156\n",
       "Telecommunications                      136\n",
       "Medical Devices                         125\n",
       "Insurance                               123\n",
       "Electrical/Electronic Manufacturing     113\n",
       "Semiconductors                          105\n",
       "Automotive                               92\n",
       "Utilities                                84\n",
       "Consumer Goods                           80\n",
       "Marketing and Advertising                80\n",
       "Mining & Metals                          74\n",
       "Chemicals                                68\n",
       "Machinery                                67\n",
       "Restaurants                              64\n",
       "Mechanical or Industrial Engineering     62\n",
       "Hospital & Health Care                   60\n",
       "Construction                             56\n",
       "Transportation/Trucking/Railroad         54\n",
       "Food & Beverages                         50\n",
       "Hospitality                              48\n",
       "Building Materials                       47\n",
       "                                       ... \n",
       "Supermarkets                              3\n",
       "Nonprofit Organization Management         3\n",
       "Law Practice                              3\n",
       "Medical Practice                          3\n",
       "Dairy                                     2\n",
       "Fine Art                                  2\n",
       "Shipbuilding                              2\n",
       "Legal Services                            2\n",
       "Graphic Design                            2\n",
       "Venture Capital &amp; Private Equity      2\n",
       "Music                                     2\n",
       "Nanotechnology                            2\n",
       "Motion Pictures and Film                  2\n",
       "Law Enforcement                           2\n",
       "Government Administration                 2\n",
       "Luxury Goods &amp; Jewelry                2\n",
       "Events Services                           2\n",
       "Gambling &amp; Casinos                    2\n",
       "Ranching                                  2\n",
       "Professional Training &amp; Coaching      1\n",
       "Recreational Facilities and Services      1\n",
       "Market Research                           1\n",
       "Warehousing                               1\n",
       "Photography                               1\n",
       "Military                                  1\n",
       "Program Development                       1\n",
       "International Trade and Development       1\n",
       "Package/Freight Delivery                  1\n",
       "Leisure, Travel &amp; Tourism             1\n",
       "Public Safety                             1\n",
       "Name: industry, Length: 136, dtype: int64"
      ]
     },
     "execution_count": 14,
     "metadata": {},
     "output_type": "execute_result"
    }
   ],
   "source": [
    "all_entries.value_counts()"
   ]
  },
  {
   "cell_type": "markdown",
   "metadata": {},
   "source": [
    "Thanks!  \n",
    "\n",
    "-Greg Loughnane, 5/5/20"
   ]
  }
 ],
 "metadata": {
  "kernelspec": {
   "display_name": "Python 3",
   "language": "python",
   "name": "python3"
  },
  "language_info": {
   "codemirror_mode": {
    "name": "ipython",
    "version": 3
   },
   "file_extension": ".py",
   "mimetype": "text/x-python",
   "name": "python",
   "nbconvert_exporter": "python",
   "pygments_lexer": "ipython3",
   "version": "3.7.3"
  }
 },
 "nbformat": 4,
 "nbformat_minor": 2
}
